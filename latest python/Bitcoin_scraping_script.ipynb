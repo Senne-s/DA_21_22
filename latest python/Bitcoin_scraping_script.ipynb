{
 "cells": [
  {
   "cell_type": "code",
   "execution_count": null,
   "metadata": {},
   "outputs": [],
   "source": [
    "import requests\n",
    "import bs4\n",
    "from bs4 import BeautifulSoup as bs\n",
    "import pandas as pd\n",
    "import time\n",
    "import ast\n",
    "from pymongo import MongoClient\n",
    "import urllib.parse\n",
    "import time\n",
    "from pymongo import MongoClient\n",
    "import urllib.parse\n",
    "import redis\n",
    "import json"
   ]
  },
  {
   "cell_type": "code",
   "execution_count": null,
   "metadata": {},
   "outputs": [],
   "source": [
    "switch = True\n",
    "def scrape():\n",
    "\n",
    "    #get the data\n",
    "    link = \"https://www.blockchain.com/btc/unconfirmed-transactions\"\n",
    "    page = requests.get(link)\n",
    "    soup = bs(page.content)\n",
    "\n",
    "    numbers = soup.find_all(\"span\", {'class' : 'sc-1ryi78w-0 cILyoi sc-16b9dsl-1 ZwupP u3ufsr-0 eQTRKC'})\n",
    "    hash = soup.find_all(\"a\", {'class' : 'sc-1r996ns-0 fLwyDF sc-1tbyx6t-1 kCGMTY iklhnl-0 eEewhk d53qjk-0 ctEFcK'})\n",
    "\n",
    "\n",
    "    #Make the arrays for the values we need\n",
    "    hash_value = [content.get_text() for content in hash]\n",
    "    time_value = [content.get_text() for content in numbers[0::3]]\n",
    "    BTC_value = [content.get_text() for content in numbers[1::3]]\n",
    "    USD_value = [content.get_text() for content in numbers[2::3]]\n",
    "\n",
    "    #Make dataframe\n",
    "    dataFrame = {'_id' : hash_value, 'Time' : time_value, 'BTC-value' : BTC_value, 'USD-value' : USD_value}\n",
    "    frame = pd.DataFrame(dataFrame)\n",
    "    frame_complete = frame\n",
    "\n",
    "    scrape.appendedDF = frame.append(frame_complete).drop_duplicates()\n",
    "    frame = scrape.appendedDF\n",
    "    return frame\n",
    "    \n",
    "while True:\n",
    "    x = scrape()\n",
    "    print(x)"
   ]
  },
  {
   "cell_type": "code",
   "execution_count": null,
   "metadata": {
    "scrolled": false
   },
   "outputs": [],
   "source": [
    "df = x\n",
    "#data cleaning\n",
    "scrape.appendedDF['BTC-value'] = scrape.appendedDF['BTC-value'].map(lambda x: x.rstrip(' BTC'))\n",
    "scrape.appendedDF['BTC-value'] = scrape.appendedDF['BTC-value'].str.replace(r'\\,', '')\n",
    "\n",
    "scrape.appendedDF['USD-value'] = scrape.appendedDF['USD-value'].map(lambda x: x.lstrip('$'))\n",
    "scrape.appendedDF['USD-value'] = scrape.appendedDF['USD-value'].str.replace(r'\\,', '')\n",
    "\n",
    "scrape.appendedDF['USD-value'] = scrape.appendedDF['USD-value'].astype('float')\n",
    "scrape.appendedDF['BTC-value'] = scrape.appendedDF['BTC-value'].astype('float')"
   ]
  },
  {
   "cell_type": "code",
   "execution_count": null,
   "metadata": {},
   "outputs": [],
   "source": [
    "r = redis.Redis()\n",
    "r.flushdb()"
   ]
  },
  {
   "cell_type": "code",
   "execution_count": null,
   "metadata": {},
   "outputs": [],
   "source": [
    "def cache():\n",
    "    while 1:\n",
    "        last_frame = df\n",
    "        var = last_frame.to_dict(orient=\"records\")\n",
    "        for x in var:\n",
    "            r.set(x[\"_id\"], json.dumps(x), ex=200)\n",
    "            \n",
    "cache()"
   ]
  }
 ],
 "metadata": {
  "kernelspec": {
   "display_name": "Python 3",
   "language": "python",
   "name": "python3"
  },
  "language_info": {
   "codemirror_mode": {
    "name": "ipython",
    "version": 3
   },
   "file_extension": ".py",
   "mimetype": "text/x-python",
   "name": "python",
   "nbconvert_exporter": "python",
   "pygments_lexer": "ipython3",
   "version": "3.8.5"
  }
 },
 "nbformat": 4,
 "nbformat_minor": 4
}
