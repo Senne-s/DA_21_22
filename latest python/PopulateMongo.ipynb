{
 "cells": [
  {
   "cell_type": "code",
   "execution_count": null,
   "metadata": {},
   "outputs": [],
   "source": [
    "import requests\n",
    "import bs4\n",
    "from bs4 import BeautifulSoup as bs\n",
    "import pandas as pd\n",
    "import time\n",
    "import ast\n",
    "from pymongo import MongoClient\n",
    "import urllib.parse\n",
    "import time\n",
    "from pymongo import MongoClient\n",
    "import urllib.parse\n",
    "import redis\n",
    "import json"
   ]
  },
  {
   "cell_type": "code",
   "execution_count": null,
   "metadata": {},
   "outputs": [],
   "source": [
    "client = MongoClient(\"mongodb://127.0.0.1:27017\")"
   ]
  },
  {
   "cell_type": "code",
   "execution_count": null,
   "metadata": {},
   "outputs": [],
   "source": [
    "red = redis.Redis()"
   ]
  },
  {
   "cell_type": "code",
   "execution_count": null,
   "metadata": {},
   "outputs": [],
   "source": [
    "def PopulateMongo():\n",
    "    while 1:\n",
    "        time.sleep(1)\n",
    "        BTC = 0\n",
    "        dic = {}\n",
    "        for x in red.scan_iter():\n",
    "            x = str(x)[2:-1:]\n",
    "            y = str(red.get(x))[2:-1:]\n",
    "\n",
    "            coll = ast.literal_eval(y)\n",
    "\n",
    "            if coll[\"BTC-value\"] > BTC:\n",
    "                BTC = coll[\"BTC-value\"]\n",
    "                dic = coll\n",
    "\n",
    "\n",
    "            red.delete(x)\n",
    "\n",
    "\n",
    "        hashes_db = client[\"Hashes\"]\n",
    "        col_hashes = hashes_db[\"Hashes\"]\n",
    "        try:\n",
    "            if dic:\n",
    "                x = col_hashes.insert_one(dic)\n",
    "                print(x.inserted_id)\n",
    "                print(dic)\n",
    "\n",
    "                dic = {}\n",
    "            else:\n",
    "                pass\n",
    "\n",
    "        except :\n",
    "            pass\n",
    "    \n",
    "PopulateMongo()"
   ]
  }
 ],
 "metadata": {
  "kernelspec": {
   "display_name": "Python 3",
   "language": "python",
   "name": "python3"
  },
  "language_info": {
   "codemirror_mode": {
    "name": "ipython",
    "version": 3
   },
   "file_extension": ".py",
   "mimetype": "text/x-python",
   "name": "python",
   "nbconvert_exporter": "python",
   "pygments_lexer": "ipython3",
   "version": "3.8.5"
  }
 },
 "nbformat": 4,
 "nbformat_minor": 4
}
